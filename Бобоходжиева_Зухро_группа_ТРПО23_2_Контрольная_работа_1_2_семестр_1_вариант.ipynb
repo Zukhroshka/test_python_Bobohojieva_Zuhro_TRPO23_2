{
 "cells": [
  {
   "cell_type": "markdown",
   "metadata": {},
   "source": [
    "### Контрольная работа № 1.\n",
    "### Вариант 1.\n",
    "#### Студент _____Бобоходжиева Зухро Сухробовна_____________________ группа ___трпо23-2___________________"
   ]
  },
  {
   "cell_type": "markdown",
   "metadata": {},
   "source": [
    "1. Создайте класс Length (Длина), имеющий свойства\n",
    "\n",
    "• value (значение),\n",
    "\n",
    "• unit (единица измерения).\n",
    "\n",
    "При изменении единицы измерения значение должно соответственно меняться. Например, при переходе от сантиметров к метрам значение должно уменьшаться в 100 раз. Допустимые значения свойства unit: ‘см’, ‘м’, ‘км’. Организуйте эту проверку. Продемонстрируйте работу с классом."
   ]
  },
  {
   "cell_type": "code",
   "execution_count": 1,
   "metadata": {},
   "outputs": [
    {
     "name": "stdout",
     "output_type": "stream",
     "text": [
      "100 см\n",
      "1.0 м\n",
      "5 км\n",
      "5000 м\n"
     ]
    }
   ],
   "source": [
    "# Решение 1.\n",
    "class Length:\n",
    "    def __init__(self, value, unit):\n",
    "        self.value = value\n",
    "        self.unit = unit\n",
    "        \n",
    "#Метод convert_to_meters позволяет конвертировать длину в метры, учитывая коэффициенты для различных единиц измерения.\n",
    "\n",
    "    def convert_to_meters(self):\n",
    "        if self.unit == 'см':\n",
    "            self.value /= 100\n",
    "            self.unit = 'м'\n",
    "        elif self.unit == 'км':\n",
    "            self.value *= 1000\n",
    "            self.unit = 'м'\n",
    "    \n",
    "    def __str__(self):\n",
    "        return f'{self.value} {self.unit}'\n",
    "\n",
    "# Пример использования\n",
    "length1 = Length(100, 'см')\n",
    "print(length1)  # Вывод: 100 см\n",
    "length1.convert_to_meters()\n",
    "print(length1)  # Вывод: 1.0 м\n",
    "\n",
    "length2 = Length(5, 'км')\n",
    "print(length2)  # Вывод: 5 км\n",
    "length2.convert_to_meters()\n",
    "print(length2)  # Вывод: 5000 м\n",
    "\n",
    "\n"
   ]
  },
  {
   "cell_type": "markdown",
   "metadata": {},
   "source": [
    "2. Создайте класс Ведомость, имеющий\n",
    "атрибут класса:\n",
    "\n",
    "• список_дисциплин (значением является список с названиями дисциплин);\n",
    "\n",
    "свойства:\n",
    "\n",
    "• дисциплина (при задании значения проверять наличие дисциплины в атрибуте список_дисциплин),\n",
    "\n",
    "• группа;\n",
    "\n",
    "методы:\n",
    "\n",
    "• put – добавляет в ведомость информацию об оценке студента (фамилия, оценка – параметры метода). Для хранения данных внутри класса используйте словарь, в котором ключом является фамилия студента. Возможные оценки – «отлично», «хорошо», «удовл.», «неудовл.», «н/я»;\n",
    "\n",
    "• get – возвращает оценку, полученную студентом (фамилия студента – параметр метода);\n",
    "\n",
    "• change – изменяет оценку, полученную студентом (фамилия студента и новая оценка – параметры метода);\n",
    "\n",
    "• del – удаляет информацию о студенте из ведомости (фамилия студента – параметр метода);\n",
    "\n",
    "• result – возвращает кортеж из 5 чисел (количество каждого вида оценок в ведомости);\n",
    "\n",
    "• __init__ – конструктор;\n",
    "\n",
    "• __str__ – возвращает строку, содержащую заголовки (название экзамена, группа) и результаты экзамена в виде таблицы;\n",
    "\n",
    "• count – возвращает количество студентов в ведомости;\n",
    "\n",
    "• names – возвращает список фамилий, имеющихся в ведомости.\n",
    "\n",
    "Продемонстрируйте работу с классом. \n"
   ]
  },
  {
   "cell_type": "code",
   "execution_count": 4,
   "metadata": {},
   "outputs": [
    {
     "name": "stdout",
     "output_type": "stream",
     "text": [
      "(1, 1, 1, 0, 0)\n",
      "Exam: Math\n",
      "Group: TRPO23-2\n",
      "Student         Grade     \n",
      "Zuhro           отлично   \n",
      "Sara            хорошо    \n",
      "Said            удовл.    \n",
      "\n",
      "3\n",
      "['Zuhro', 'Sara', 'Said']\n",
      "Exam: Math\n",
      "Group: TRPO23-2\n",
      "Student         Grade     \n",
      "Sara            хорошо    \n",
      "Said            неудовл.  \n",
      "\n"
     ]
    }
   ],
   "source": [
    "# Решение 2.\n",
    "class RecordBook:\n",
    "    list_of_disciplines = [\"Math\", \"Physics\", \"Chemistry\"]\n",
    "    \n",
    "# __init__(self, discipline, group):\n",
    "#Конструктор класса, который инициализирует объект RecordBook с указанной дисциплиной и группой.\n",
    "\n",
    "    def __init__(self, discipline, group):\n",
    "        if discipline not in self.list_of_disciplines:\n",
    "            raise ValueError(\"Invalid discipline\")\n",
    "        self.discipline = discipline\n",
    "        self.group = group\n",
    "        self.grades = {}\n",
    "        \n",
    "# put(self, student, grade): \n",
    "#Метод для добавления оценки grade для студента student.\n",
    "#Проверяется, что оценка является допустимой.\n",
    "\n",
    "    def put(self, student, grade):\n",
    "        if grade not in [\"отлично\", \"хорошо\", \"удовл.\", \"неудовл.\", \"н/я\"]:\n",
    "            raise ValueError(\"Invalid grade\")\n",
    "        self.grades[student] = grade\n",
    "        \n",
    "# get(self, student): \n",
    "#Метод для получения оценки студента student.\n",
    "\n",
    "    def get(self, student):\n",
    "        return self.grades.get(student, None)\n",
    "    \n",
    "# change(self, student, new_grade): \n",
    "#Метод для изменения оценки студента student на новую оценку new_grade.\n",
    "\n",
    "    def change(self, student, new_grade):\n",
    "        if new_grade not in [\"отлично\", \"хорошо\", \"удовл.\", \"неудовл.\", \"н/я\"]:\n",
    "            raise ValueError(\"Invalid grade\")\n",
    "        if student in self.grades:\n",
    "            self.grades[student] = new_grade\n",
    "# delete(self, student):\n",
    "#Метод для удаления информации об оценке студента.\n",
    "    def delete(self, student):\n",
    "        if student in self.grades:\n",
    "            del self.grades[student]\n",
    "# result(self): \n",
    "#Метод для подсчета количества студентов, получивших каждую из оценок. \n",
    "#Возвращает кортеж с количеством оценок каждого типа.\n",
    "    def result(self):\n",
    "        grades_count = {\n",
    "            \"отлично\": 0,\n",
    "            \"хорошо\": 0,\n",
    "            \"удовл.\": 0,\n",
    "            \"неудовл.\": 0,\n",
    "            \"н/я\": 0\n",
    "        }\n",
    "        for grade in self.grades.values():\n",
    "            grades_count[grade] += 1\n",
    "        return tuple(grades_count.values())\n",
    "#__str__(self): \n",
    "#Метод для представления объекта класса в виде строки. \n",
    "#Выводит информацию о дисциплине, группе и оценках студентов.\n",
    "    def __str__(self):\n",
    "        result_str = f\"Exam: {self.discipline}\\nGroup: {self.group}\\n\"\n",
    "        result_str += \"{:<15} {:<10}\\n\".format(\"Student\", \"Grade\")\n",
    "        for student, grade in self.grades.items():\n",
    "            result_str += \"{:<15} {:<10}\\n\".format(student, grade)\n",
    "        return result_str\n",
    "    \n",
    "# count(self): Метод для подсчета количества студентов в записной книжке.\n",
    "    def count(self):\n",
    "        return len(self.grades)\n",
    "#names(self): Метод для получения списка имен студентов.\n",
    "    def names(self):\n",
    "        return list(self.grades.keys())\n",
    "\n",
    "# Пример использования\n",
    "record_book = RecordBook(\"Math\", \"TRPO23-2\")\n",
    "record_book.put(\"Zuhro\", \"отлично\")\n",
    "record_book.put(\"Sara\", \"хорошо\")\n",
    "record_book.put(\"Said\", \"удовл.\")\n",
    "print(record_book.result())  # Вывод: (1, 1, 1, 0, 0)\n",
    "print(record_book)  # Вывод: таблица с результатами экзамена\n",
    "print(record_book.count())  # Вывод: 3\n",
    "print(record_book.names())  # Вывод: ['Zuhro', 'Sara', 'Said']\n",
    "record_book.change(\"Said\", \"неудовл.\")\n",
    "record_book.delete(\"Zuhro\")\n",
    "print(record_book)  # Вывод обновленная таблица с результатами экзамена\n",
    "\n"
   ]
  },
  {
   "cell_type": "markdown",
   "metadata": {},
   "source": [
    "3. Создайте класс Заказ(Order), у которого есть свойства код_товара(code), цена(price), количество(count) и методы __init__ и __str__.\n",
    "\n",
    "Создайте 2 класса-потомка: Опт(Opt) и Розница(Retail).\n",
    "В этих классах создайте методы __init__, __str__.и сумма_заказа(summa), позволяющий узнать стоимость заказа.\n",
    "Для опта стоимость единицы товара составляет 95% от цены, а при покупке более 500 штук – 90% цены.\n",
    "В розницу стоимость единицы товара составляет 100% цены. Стоимость заказа равна произведению цены на количество. \n",
    "\n",
    "Продемонстрируйте работу с классами, создав необходимые объекты и обратившись к их свойствам и методам\n"
   ]
  },
  {
   "cell_type": "code",
   "execution_count": 5,
   "metadata": {},
   "outputs": [
    {
     "name": "stdout",
     "output_type": "stream",
     "text": [
      "Opt Order - Code: 001, Price: 100, Count: 600\n",
      "Total cost for Opt order: 54000.0\n",
      "Retail Order - Code: 002, Price: 150, Count: 200\n",
      "Total cost for Retail order: 30000\n"
     ]
    }
   ],
   "source": [
    "# Решение 3.\n",
    "#код создает класс Order с указанными свойствами и методами init и str.\n",
    "class Order:\n",
    "    def __init__(self, code, price, count):\n",
    "        self.code = code\n",
    "        self.price = price\n",
    "        self.count = count\n",
    "\n",
    "    def __str__(self):\n",
    "        return f\"Code: {self.code}, Price: {self.price}, Count: {self.count}\"\n",
    "    \n",
    "#создаются классы-потомки Opt и Retail, которые наследуются от класса Order и имеют свои собственные методы init, str и summa.\n",
    "class Opt(Order):\n",
    "    def __init__(self, code, price, count):\n",
    "        super().__init__(code, price, count)\n",
    "\n",
    "    def __str__(self):\n",
    "        return f\"Opt Order - {super().__str__()}\"\n",
    "\n",
    "    def summa(self):\n",
    "        if self.count > 500:\n",
    "            return self.price * self.count * 0.9\n",
    "        else:\n",
    "            return self.price * self.count * 0.95\n",
    "        \n",
    "#При создании объектов Opt и Retail можно указать\n",
    "#код товара, цену и количество. Метод summa в классах-потомках вычисляет стоимость заказа с учетом условий для опта и розницы.\n",
    "\n",
    "class Retail(Order):\n",
    "    def __init__(self, code, price, count):\n",
    "        super().__init__(code, price, count)\n",
    "\n",
    "    def __str__(self):\n",
    "        return f\"Retail Order - {super().__str__()}\"\n",
    "\n",
    "    def summa(self):\n",
    "        return self.price * self.count\n",
    "\n",
    "# Пример использования классов\n",
    "opt_order = Opt(\"001\", 100, 600)\n",
    "retail_order = Retail(\"002\", 150, 200)\n",
    "\n",
    "print(opt_order)\n",
    "print(f\"Total cost for Opt order: {opt_order.summa()}\")\n",
    "\n",
    "print(retail_order)\n",
    "print(f\"Total cost for Retail order: {retail_order.summa()}\")\n",
    "\n"
   ]
  },
  {
   "cell_type": "markdown",
   "metadata": {},
   "source": [
    "4. Написать функцию my_func_1(lst), которая переворачивает список вложенных списков с произвольным уровнем вложенности.\n",
    "Любой элемент, не являющийся списком, не должен быть изменен.\n",
    "\n",
    "Примеры, демонстрирующие ожидаемое поведение функции:\n",
    "\n",
    "assert my_func_1(42) == 42\n",
    "\n",
    "assert my_func_1([]) == []\n",
    "\n",
    "assert my_func_1([1, 2]) == [2, 1]\n",
    "\n",
    "assert my_func_1((1, 2)) == (1, 2)\n",
    "\n",
    "assert my_func_1([[1, 2], [3, [4, 5]], 6]) == [6, [[5, 4], 3], [2, 1]]\n",
    "\n",
    "assert my_func_1(['123', '456', '789', {10: [11, 12], 13: 14}, (15, 16)]) == [(15, 16), {10: [11, 12], 13: 14}, '789', '456', '123']\n",
    "\n",
    "assert my_func_1([[[[[1, 2]]]]]) == [[[[[2, 1]]]]]"
   ]
  },
  {
   "cell_type": "code",
   "execution_count": 7,
   "metadata": {},
   "outputs": [],
   "source": [
    "# Решение 4.\n",
    "#Функция my_func_1 рекурсивно обрабатывает каждый элемент списка lst.\n",
    "def my_func_1(lst):\n",
    "    if not isinstance(lst, list):  # Если элемент не является списком, возвращаем его без изменений\n",
    "        return lst\n",
    "    return [my_func_1(item) for item in reversed(lst)]\n",
    "\n",
    "# Примеры использования функции\n",
    "assert my_func_1(42) == 42\n",
    "assert my_func_1([]) == []\n",
    "assert my_func_1([1, 2]) == [2, 1]\n",
    "assert my_func_1((1, 2)) == (1, 2)\n",
    "assert my_func_1([[1, 2], [3, [4, 5]], 6]) == [6, [[5, 4], 3], [2, 1]]\n",
    "assert my_func_1(['123', '456', '789', {10: [11, 12], 13: 14}, (15, 16)]) == [(15, 16), {10: [11, 12], 13: 14}, '789', '456', '123']\n",
    "assert my_func_1([[[[[1, 2]]]]]) == [[[[[2, 1]]]]]\n"
   ]
  },
  {
   "cell_type": "markdown",
   "metadata": {},
   "source": [
    "5.При помощи механизма map/filter/reduce возвести в квадрат числа от 1 до 100, и рассчитать их сумму, не включая в сумму числа, кратные 9. Написать реализацию в одну строку."
   ]
  },
  {
   "cell_type": "code",
   "execution_count": 12,
   "metadata": {},
   "outputs": [
    {
     "data": {
      "text/plain": [
       "297364"
      ]
     },
     "execution_count": 12,
     "metadata": {},
     "output_type": "execute_result"
    }
   ],
   "source": [
    "# Решение 5.\n",
    "#список квадратов чисел от 1 до 100 с помощью map, затем фильтрует этот список, чтобы исключить числа, кратные 9, \n",
    "#с помощью filter, и, наконец, использует reduce, чтобы вычислить сумму оставшихся элементов.\n",
    "\n",
    "sum(map(lambda x: x**2, filter(lambda x: x % 9 != 0, range(1, 101))))\n"
   ]
  },
  {
   "cell_type": "markdown",
   "metadata": {},
   "source": [
    "6.Написать декоратор с параметром my_decorator(n). Декоратор превращает функцию, возвращающую поддерживающий итерации объект (далее \"последовательность\"), в функцию-генератор. Если декорируемая функция возвращает что-то другое, а не последовательность, то декоратор должен вернуть этот результат вызова функции без изменений.\n",
    "\n",
    "Проверку объекта можно организовать при помощи условия import collections if isinstance(item, collections.Iterable)\n",
    "\n",
    "Параметром декоратора может быть целое положительное число n, тогда получившаяся функция-декоратор должна генерировать по одному значению из последовательности, повторенной n раз. Также параметр может принимать строковое значение 'inf', тогда функция-декоратор генерирует по одному значению из последовательности, повторенной бесконечное число раз (зацикливает генерирование результата).\n",
    "\n",
    "Подсказка: сначала реализовать случай со значением аргумента 'inf', а затем модифицировать для целочисленного значения аргумента."
   ]
  },
  {
   "cell_type": "code",
   "execution_count": null,
   "metadata": {},
   "outputs": [],
   "source": [
    "# Решение 6.\n"
   ]
  }
 ],
 "metadata": {
  "kernelspec": {
   "display_name": "Python 3 (ipykernel)",
   "language": "python",
   "name": "python3"
  },
  "language_info": {
   "codemirror_mode": {
    "name": "ipython",
    "version": 3
   },
   "file_extension": ".py",
   "mimetype": "text/x-python",
   "name": "python",
   "nbconvert_exporter": "python",
   "pygments_lexer": "ipython3",
   "version": "3.10.9"
  }
 },
 "nbformat": 4,
 "nbformat_minor": 4
}
